{
 "cells": [
  {
   "cell_type": "markdown",
   "metadata": {},
   "source": [
    "# CZ4042 Assignment 2 : Part B : Text Classification"
   ]
  },
  {
   "cell_type": "code",
   "execution_count": 19,
   "metadata": {},
   "outputs": [],
   "source": [
    "import numpy as np\n",
    "import tensorflow as tf\n",
    "from tensorflow.keras import Model, layers\n",
    "import csv\n",
    "import re\n",
    "import pylab\n",
    "import en_core_web_lg\n",
    "from tqdm import tqdm\n",
    "from collections import Counter\n",
    "from tensorflow.keras.utils import to_categorical"
   ]
  },
  {
   "cell_type": "code",
   "execution_count": null,
   "metadata": {},
   "outputs": [],
   "source": []
  },
  {
   "cell_type": "code",
   "execution_count": 2,
   "metadata": {},
   "outputs": [],
   "source": [
    "# set seed\n",
    "SEED = 10\n",
    "tf.random.set_seed(SEED)\n",
    "np.random.seed(SEED)"
   ]
  },
  {
   "cell_type": "code",
   "execution_count": 3,
   "metadata": {},
   "outputs": [],
   "source": [
    "# parameters\n",
    "MAX_DOC_LENGTH = 100\n",
    "CHAR_LIMIT = 256\n",
    "VOCAB_SIZE = 10000\n",
    "NUM_CATEGORY = 15\n",
    "NLP = en_core_web_lg.load()\n",
    "\n",
    "N_FILTERS = 10\n",
    "FILTER_SHAPE1 = [20, 256]\n",
    "POOLING_WINDOW = 4\n",
    "POOLING_STRIDE = 2\n",
    "MAX_LABEL = 15\n",
    "\n",
    "batch_size = 128\n",
    "one_hot_size = 256\n",
    "no_epochs = 250\n",
    "lr = 0.01"
   ]
  },
  {
   "cell_type": "markdown",
   "metadata": {},
   "source": [
    "## Question 1 : CNN Classifier"
   ]
  },
  {
   "cell_type": "code",
   "execution_count": 30,
   "metadata": {},
   "outputs": [],
   "source": [
    "def load_data_from_file():\n",
    "    \"\"\"\n",
    "    Load strings from file.\n",
    "    \"\"\"\n",
    "    \n",
    "    with open('./train_medium.csv', encoding='utf-8') as filex:\n",
    "        reader = csv.reader(filex)\n",
    "        x_train = [row[1] for row in reader]\n",
    "        y_train = [int(row[0]) for row in reader]\n",
    "\n",
    "    with open('./test_medium.csv', encoding='utf-8') as filex:\n",
    "        reader = csv.reader(filex)\n",
    "        x_test = [row[1] for row in reader]\n",
    "        y_test = [int(row[0]) for row in reader]\n",
    "\n",
    "    return x_train, y_train, x_test, y_test\n",
    "\n",
    "def build_char_dict(x_train, x_test):\n",
    "    \"\"\"\n",
    "    Build character mapping to indices.\n",
    "    \"\"\"\n",
    "    count = Counter()\n",
    "    for d in x_train + x_test:\n",
    "        d = d.lower() \n",
    "        count.update(d)\n",
    "    \n",
    "    most_common = count.most_common(CHAR_LIMIT)\n",
    "    most_common = [x[0] for x in most_common]\n",
    "    char_dict = {ch : i for i, ch in enumerate(most_common)}\n",
    "    \n",
    "    return char_dict\n",
    "\n",
    "def preprocess_char(data, char_dict):\n",
    "    \"\"\"\n",
    "    Process string for character CNN.\n",
    "    \"\"\"\n",
    "    cleaned = []\n",
    "    for text in tqdm(data):        \n",
    "        text = text.strip().lower() # lower case\n",
    "        text = re.sub(\"\\s+\", \" \", text) # compress white space\n",
    "        text = [ch for ch in text if ch in char_dict] # remove char not in char_dict\n",
    "        \n",
    "        text = text[:MAX_DOC_LENGTH] # cut down to max char length\n",
    "        text = text + [' '] * max(0, MAX_DOC_LENGTH - len(text))  # pad with spaces\n",
    "        text = [char_dict[ch] for ch in text] # convert to id\n",
    "        \n",
    "        cleaned.append(text)\n",
    "        \n",
    "    return np.array(cleaned)\n",
    "\n",
    "def get_data_ch():\n",
    "    \"\"\"\n",
    "    Get data in character format.\n",
    "    \"\"\"\n",
    "    x_train, y_train, x_test, y_test = load_data_from_file()\n",
    "    \n",
    "    char_dict = build_char_dict(x_train, x_test)\n",
    "    \n",
    "    x_train = preprocess_char(x_train, char_dict)\n",
    "    y_train = np.array(y_train)\n",
    "    \n",
    "    x_test = preprocess_char(x_test, char_dict)\n",
    "    y_test = np.array(y_test)\n",
    "    \n",
    "    return x_train, y_train, x_test, y_test"
   ]
  },
  {
   "cell_type": "code",
   "execution_count": 50,
   "metadata": {},
   "outputs": [],
   "source": [
    "# model builder for Character CNN Classifier\n",
    "def build_char_CNN():\n",
    "    # fixed parameter\n",
    "    learning_rate = 0.01\n",
    "    batch_size = 128\n",
    "    \n",
    "    # model\n",
    "    model = tf.keras.Sequential()\n",
    "    \n",
    "    model.add(layers.Input(shape=(MAX_DOC_LENGTH, CHAR_LIMIT)))\n",
    "    \n",
    "    model.add(layers.Conv2D(filters=10, kernel_size=(20,256), activation='relu', padding='valid', input_shape=(None,CHAR_LIMIT)))\n",
    "    model.add(layers.MaxPooling2D(pool_size=4, strides=2,padding=\"same\"))\n",
    "    \n",
    "    model.add(layers.Conv2D(filters=10, kernel_size=(20,1), activation='relu', padding='valid'))\n",
    "    model.add(layers.MaxPooling2D(pool_size=4, strides=2,padding=\"same\"))\n",
    "    model.add(layers.Flatten())\n",
    "    \n",
    "    model.add(layers.Dense(units=NUM_CATEGORY, activation=None))\n",
    "    \n",
    "    loss = tf.keras.losses.SparseCategoricalCrossentropy(from_logits=True)\n",
    "    optimizer = tf.keras.optimizers.Adam(learning_rate=learning_rate)\n",
    "        \n",
    "    model.compile(optimizer=optimizer, loss=loss, metrics=['accuracy'])\n",
    "    return model"
   ]
  },
  {
   "cell_type": "code",
   "execution_count": 51,
   "metadata": {},
   "outputs": [],
   "source": [
    "def train_char_CNN():\n",
    "    # fixed hyperparameters for training\n",
    "    epochs = 250\n",
    "    batch_size = 128\n",
    "    \n",
    "    x_train, y_train, x_test, y_test = get_data_ch()\n",
    "    print('convert x_train')\n",
    "    x_train = to_categorical(x_train, num_classes=CHAR_LIMIT)\n",
    "    print('convert x_test')\n",
    "    x_test = to_categorical(x_test, num_classes=CHAR_LIMIT)\n",
    "    \n",
    "    # model training\n",
    "    model = build_char_CNN()\n",
    "    print(model.summary())\n",
    "    history = model.fit(\n",
    "        x_train,\n",
    "        y_train,\n",
    "        batch_size=batch_size,\n",
    "        epochs=epochs,\n",
    "        validation_data=(x_test, y_test))\n",
    "    \n",
    "    # save model\n",
    "    with open('char_cnn.pickle', 'wb') as f:\n",
    "        pickle.dump(history.history, f)\n",
    "    \n",
    "    return model, history.history"
   ]
  },
  {
   "cell_type": "code",
   "execution_count": 52,
   "metadata": {},
   "outputs": [
    {
     "name": "stderr",
     "output_type": "stream",
     "text": [
      "100%|██████████| 5600/5600 [00:00<00:00, 18940.17it/s]\n",
      "100%|██████████| 700/700 [00:00<00:00, 11870.02it/s]\n"
     ]
    },
    {
     "name": "stdout",
     "output_type": "stream",
     "text": [
      "convert x_train\n",
      "convert x_test\n"
     ]
    },
    {
     "ename": "ValueError",
     "evalue": "Input 0 of layer conv2d_6 is incompatible with the layer: expected ndim=4, found ndim=3. Full shape received: [None, 100, 256]",
     "output_type": "error",
     "traceback": [
      "\u001B[0;31m---------------------------------------------------------------------------\u001B[0m",
      "\u001B[0;31mValueError\u001B[0m                                Traceback (most recent call last)",
      "\u001B[0;32m<ipython-input-52-ebe472b07c75>\u001B[0m in \u001B[0;36m<module>\u001B[0;34m\u001B[0m\n\u001B[0;32m----> 1\u001B[0;31m \u001B[0m_\u001B[0m\u001B[0;34m,\u001B[0m \u001B[0mhistory\u001B[0m \u001B[0;34m=\u001B[0m \u001B[0mtrain_char_CNN\u001B[0m\u001B[0;34m(\u001B[0m\u001B[0;34m)\u001B[0m\u001B[0;34m\u001B[0m\u001B[0;34m\u001B[0m\u001B[0m\n\u001B[0m",
      "\u001B[0;32m<ipython-input-51-5f1d1054d6ae>\u001B[0m in \u001B[0;36mtrain_char_CNN\u001B[0;34m()\u001B[0m\n\u001B[1;32m     11\u001B[0m \u001B[0;34m\u001B[0m\u001B[0m\n\u001B[1;32m     12\u001B[0m     \u001B[0;31m# model training\u001B[0m\u001B[0;34m\u001B[0m\u001B[0;34m\u001B[0m\u001B[0;34m\u001B[0m\u001B[0m\n\u001B[0;32m---> 13\u001B[0;31m     \u001B[0mmodel\u001B[0m \u001B[0;34m=\u001B[0m \u001B[0mbuild_char_CNN\u001B[0m\u001B[0;34m(\u001B[0m\u001B[0;34m)\u001B[0m\u001B[0;34m\u001B[0m\u001B[0;34m\u001B[0m\u001B[0m\n\u001B[0m\u001B[1;32m     14\u001B[0m     \u001B[0mprint\u001B[0m\u001B[0;34m(\u001B[0m\u001B[0mmodel\u001B[0m\u001B[0;34m.\u001B[0m\u001B[0msummary\u001B[0m\u001B[0;34m(\u001B[0m\u001B[0;34m)\u001B[0m\u001B[0;34m)\u001B[0m\u001B[0;34m\u001B[0m\u001B[0;34m\u001B[0m\u001B[0m\n\u001B[1;32m     15\u001B[0m     history = model.fit(\n",
      "\u001B[0;32m<ipython-input-50-7fc5c79a6a32>\u001B[0m in \u001B[0;36mbuild_char_CNN\u001B[0;34m()\u001B[0m\n\u001B[1;32m      7\u001B[0m     \u001B[0;31m# model\u001B[0m\u001B[0;34m\u001B[0m\u001B[0;34m\u001B[0m\u001B[0;34m\u001B[0m\u001B[0m\n\u001B[1;32m      8\u001B[0m     \u001B[0mmodel\u001B[0m \u001B[0;34m=\u001B[0m \u001B[0mtf\u001B[0m\u001B[0;34m.\u001B[0m\u001B[0mkeras\u001B[0m\u001B[0;34m.\u001B[0m\u001B[0mSequential\u001B[0m\u001B[0;34m(\u001B[0m\u001B[0;34m)\u001B[0m\u001B[0;34m\u001B[0m\u001B[0;34m\u001B[0m\u001B[0m\n\u001B[0;32m----> 9\u001B[0;31m     \u001B[0mmodel\u001B[0m\u001B[0;34m.\u001B[0m\u001B[0madd\u001B[0m\u001B[0;34m(\u001B[0m\u001B[0mlayers\u001B[0m\u001B[0;34m.\u001B[0m\u001B[0mConv2D\u001B[0m\u001B[0;34m(\u001B[0m\u001B[0mfilters\u001B[0m\u001B[0;34m=\u001B[0m\u001B[0;36m10\u001B[0m\u001B[0;34m,\u001B[0m \u001B[0mkernel_size\u001B[0m\u001B[0;34m=\u001B[0m\u001B[0;34m(\u001B[0m\u001B[0;36m20\u001B[0m\u001B[0;34m,\u001B[0m\u001B[0;36m256\u001B[0m\u001B[0;34m)\u001B[0m\u001B[0;34m,\u001B[0m \u001B[0mactivation\u001B[0m\u001B[0;34m=\u001B[0m\u001B[0;34m'relu'\u001B[0m\u001B[0;34m,\u001B[0m \u001B[0mpadding\u001B[0m\u001B[0;34m=\u001B[0m\u001B[0;34m'valid'\u001B[0m\u001B[0;34m,\u001B[0m \u001B[0minput_shape\u001B[0m\u001B[0;34m=\u001B[0m\u001B[0;34m(\u001B[0m\u001B[0mMAX_DOC_LENGTH\u001B[0m\u001B[0;34m,\u001B[0m\u001B[0mCHAR_LIMIT\u001B[0m\u001B[0;34m)\u001B[0m\u001B[0;34m)\u001B[0m\u001B[0;34m)\u001B[0m\u001B[0;34m\u001B[0m\u001B[0;34m\u001B[0m\u001B[0m\n\u001B[0m\u001B[1;32m     10\u001B[0m     \u001B[0mmodel\u001B[0m\u001B[0;34m.\u001B[0m\u001B[0madd\u001B[0m\u001B[0;34m(\u001B[0m\u001B[0mlayers\u001B[0m\u001B[0;34m.\u001B[0m\u001B[0mMaxPooling2D\u001B[0m\u001B[0;34m(\u001B[0m\u001B[0mpool_size\u001B[0m\u001B[0;34m=\u001B[0m\u001B[0;36m4\u001B[0m\u001B[0;34m,\u001B[0m \u001B[0mstrides\u001B[0m\u001B[0;34m=\u001B[0m\u001B[0;36m2\u001B[0m\u001B[0;34m,\u001B[0m\u001B[0mpadding\u001B[0m\u001B[0;34m=\u001B[0m\u001B[0;34m\"same\"\u001B[0m\u001B[0;34m)\u001B[0m\u001B[0;34m)\u001B[0m\u001B[0;34m\u001B[0m\u001B[0;34m\u001B[0m\u001B[0m\n\u001B[1;32m     11\u001B[0m \u001B[0;34m\u001B[0m\u001B[0m\n",
      "\u001B[0;32m/usr/local/lib/python3.6/dist-packages/tensorflow_core/python/training/tracking/base.py\u001B[0m in \u001B[0;36m_method_wrapper\u001B[0;34m(self, *args, **kwargs)\u001B[0m\n\u001B[1;32m    455\u001B[0m     \u001B[0mself\u001B[0m\u001B[0;34m.\u001B[0m\u001B[0m_self_setattr_tracking\u001B[0m \u001B[0;34m=\u001B[0m \u001B[0;32mFalse\u001B[0m  \u001B[0;31m# pylint: disable=protected-access\u001B[0m\u001B[0;34m\u001B[0m\u001B[0;34m\u001B[0m\u001B[0m\n\u001B[1;32m    456\u001B[0m     \u001B[0;32mtry\u001B[0m\u001B[0;34m:\u001B[0m\u001B[0;34m\u001B[0m\u001B[0;34m\u001B[0m\u001B[0m\n\u001B[0;32m--> 457\u001B[0;31m       \u001B[0mresult\u001B[0m \u001B[0;34m=\u001B[0m \u001B[0mmethod\u001B[0m\u001B[0;34m(\u001B[0m\u001B[0mself\u001B[0m\u001B[0;34m,\u001B[0m \u001B[0;34m*\u001B[0m\u001B[0margs\u001B[0m\u001B[0;34m,\u001B[0m \u001B[0;34m**\u001B[0m\u001B[0mkwargs\u001B[0m\u001B[0;34m)\u001B[0m\u001B[0;34m\u001B[0m\u001B[0;34m\u001B[0m\u001B[0m\n\u001B[0m\u001B[1;32m    458\u001B[0m     \u001B[0;32mfinally\u001B[0m\u001B[0;34m:\u001B[0m\u001B[0;34m\u001B[0m\u001B[0;34m\u001B[0m\u001B[0m\n\u001B[1;32m    459\u001B[0m       \u001B[0mself\u001B[0m\u001B[0;34m.\u001B[0m\u001B[0m_self_setattr_tracking\u001B[0m \u001B[0;34m=\u001B[0m \u001B[0mprevious_value\u001B[0m  \u001B[0;31m# pylint: disable=protected-access\u001B[0m\u001B[0;34m\u001B[0m\u001B[0;34m\u001B[0m\u001B[0m\n",
      "\u001B[0;32m/usr/local/lib/python3.6/dist-packages/tensorflow_core/python/keras/engine/sequential.py\u001B[0m in \u001B[0;36madd\u001B[0;34m(self, layer)\u001B[0m\n\u001B[1;32m    176\u001B[0m           \u001B[0;31m# and create the node connecting the current layer\u001B[0m\u001B[0;34m\u001B[0m\u001B[0;34m\u001B[0m\u001B[0;34m\u001B[0m\u001B[0m\n\u001B[1;32m    177\u001B[0m           \u001B[0;31m# to the input layer we just created.\u001B[0m\u001B[0;34m\u001B[0m\u001B[0;34m\u001B[0m\u001B[0;34m\u001B[0m\u001B[0m\n\u001B[0;32m--> 178\u001B[0;31m           \u001B[0mlayer\u001B[0m\u001B[0;34m(\u001B[0m\u001B[0mx\u001B[0m\u001B[0;34m)\u001B[0m\u001B[0;34m\u001B[0m\u001B[0;34m\u001B[0m\u001B[0m\n\u001B[0m\u001B[1;32m    179\u001B[0m           \u001B[0mset_inputs\u001B[0m \u001B[0;34m=\u001B[0m \u001B[0;32mTrue\u001B[0m\u001B[0;34m\u001B[0m\u001B[0;34m\u001B[0m\u001B[0m\n\u001B[1;32m    180\u001B[0m \u001B[0;34m\u001B[0m\u001B[0m\n",
      "\u001B[0;32m/usr/local/lib/python3.6/dist-packages/tensorflow_core/python/keras/engine/base_layer.py\u001B[0m in \u001B[0;36m__call__\u001B[0;34m(self, inputs, *args, **kwargs)\u001B[0m\n\u001B[1;32m    810\u001B[0m         \u001B[0;31m# are casted, not before.\u001B[0m\u001B[0;34m\u001B[0m\u001B[0;34m\u001B[0m\u001B[0;34m\u001B[0m\u001B[0m\n\u001B[1;32m    811\u001B[0m         input_spec.assert_input_compatibility(self.input_spec, inputs,\n\u001B[0;32m--> 812\u001B[0;31m                                               self.name)\n\u001B[0m\u001B[1;32m    813\u001B[0m         \u001B[0mgraph\u001B[0m \u001B[0;34m=\u001B[0m \u001B[0mbackend\u001B[0m\u001B[0;34m.\u001B[0m\u001B[0mget_graph\u001B[0m\u001B[0;34m(\u001B[0m\u001B[0;34m)\u001B[0m\u001B[0;34m\u001B[0m\u001B[0;34m\u001B[0m\u001B[0m\n\u001B[1;32m    814\u001B[0m         \u001B[0;32mwith\u001B[0m \u001B[0mgraph\u001B[0m\u001B[0;34m.\u001B[0m\u001B[0mas_default\u001B[0m\u001B[0;34m(\u001B[0m\u001B[0;34m)\u001B[0m\u001B[0;34m,\u001B[0m \u001B[0mbackend\u001B[0m\u001B[0;34m.\u001B[0m\u001B[0mname_scope\u001B[0m\u001B[0;34m(\u001B[0m\u001B[0mself\u001B[0m\u001B[0;34m.\u001B[0m\u001B[0m_name_scope\u001B[0m\u001B[0;34m(\u001B[0m\u001B[0;34m)\u001B[0m\u001B[0;34m)\u001B[0m\u001B[0;34m:\u001B[0m\u001B[0;34m\u001B[0m\u001B[0;34m\u001B[0m\u001B[0m\n",
      "\u001B[0;32m/usr/local/lib/python3.6/dist-packages/tensorflow_core/python/keras/engine/input_spec.py\u001B[0m in \u001B[0;36massert_input_compatibility\u001B[0;34m(input_spec, inputs, layer_name)\u001B[0m\n\u001B[1;32m    175\u001B[0m                          \u001B[0;34m'expected ndim='\u001B[0m \u001B[0;34m+\u001B[0m \u001B[0mstr\u001B[0m\u001B[0;34m(\u001B[0m\u001B[0mspec\u001B[0m\u001B[0;34m.\u001B[0m\u001B[0mndim\u001B[0m\u001B[0;34m)\u001B[0m \u001B[0;34m+\u001B[0m \u001B[0;34m', found ndim='\u001B[0m \u001B[0;34m+\u001B[0m\u001B[0;34m\u001B[0m\u001B[0;34m\u001B[0m\u001B[0m\n\u001B[1;32m    176\u001B[0m                          \u001B[0mstr\u001B[0m\u001B[0;34m(\u001B[0m\u001B[0mndim\u001B[0m\u001B[0;34m)\u001B[0m \u001B[0;34m+\u001B[0m \u001B[0;34m'. Full shape received: '\u001B[0m \u001B[0;34m+\u001B[0m\u001B[0;34m\u001B[0m\u001B[0;34m\u001B[0m\u001B[0m\n\u001B[0;32m--> 177\u001B[0;31m                          str(x.shape.as_list()))\n\u001B[0m\u001B[1;32m    178\u001B[0m     \u001B[0;32mif\u001B[0m \u001B[0mspec\u001B[0m\u001B[0;34m.\u001B[0m\u001B[0mmax_ndim\u001B[0m \u001B[0;32mis\u001B[0m \u001B[0;32mnot\u001B[0m \u001B[0;32mNone\u001B[0m\u001B[0;34m:\u001B[0m\u001B[0;34m\u001B[0m\u001B[0;34m\u001B[0m\u001B[0m\n\u001B[1;32m    179\u001B[0m       \u001B[0mndim\u001B[0m \u001B[0;34m=\u001B[0m \u001B[0mx\u001B[0m\u001B[0;34m.\u001B[0m\u001B[0mshape\u001B[0m\u001B[0;34m.\u001B[0m\u001B[0mndims\u001B[0m\u001B[0;34m\u001B[0m\u001B[0;34m\u001B[0m\u001B[0m\n",
      "\u001B[0;31mValueError\u001B[0m: Input 0 of layer conv2d_6 is incompatible with the layer: expected ndim=4, found ndim=3. Full shape received: [None, 100, 256]"
     ]
    }
   ],
   "source": [
    "_, history = train_char_CNN()"
   ]
  },
  {
   "cell_type": "code",
   "execution_count": null,
   "metadata": {},
   "outputs": [],
   "source": []
  },
  {
   "cell_type": "code",
   "execution_count": null,
   "metadata": {},
   "outputs": [],
   "source": [
    "plot_graphs(history)"
   ]
  },
  {
   "cell_type": "markdown",
   "metadata": {},
   "source": [
    "## Question 2 : Word CNN"
   ]
  },
  {
   "cell_type": "code",
   "execution_count": 11,
   "metadata": {},
   "outputs": [],
   "source": [
    "def build_word_dict(x_train, x_test):\n",
    "    contents = x_train + x_test\n",
    "    words = []\n",
    "    for content in contents:\n",
    "        for word in content:\n",
    "            words.append(word)\n",
    "\n",
    "    most_common = collections.Counter(words).most_common(VOCAB_SIZE)\n",
    "    \n",
    "    word_dict = dict()\n",
    "    word_dict[\"<pad>\"] = 0\n",
    "    word_dict[\"<unk>\"] = 1\n",
    "    word_dict[\"<eos>\"] = 2\n",
    "    for word, _ in word_counter:\n",
    "        word_dict[word] = len(word_dict)\n",
    "        \n",
    "    return word_dict\n",
    "\n",
    "def preprocess(contents, word_dict, document_max_len):\n",
    "    x = list(map(lambda d: word_tokenize(clean_str(d)), contents))\n",
    "    x = list(map(lambda d: list(map(lambda w: word_dict.get(w, word_dict[\"<unk>\"]), d)), x))\n",
    "    x = list(map(lambda d: d + [word_dict[\"<eos>\"]], x))\n",
    "    x = list(map(lambda d: d[:document_max_len], x))\n",
    "    x = list(map(lambda d: d + (document_max_len - len(d)) * [word_dict[\"<pad>\"]], x))\n",
    "    return x\n",
    "\n",
    "\n",
    "\n",
    "def preprocess_tokens(strings, nlp):\n",
    "    \"\"\"\n",
    "    Process string into tokens.\n",
    "    \"\"\"\n",
    "    data = []\n",
    "    tqdm.write(\"tokenizing and cleaning strings\")\n",
    "    for text in tqdm(strings):        \n",
    "        # clean the string\n",
    "        text = re.sub(r\"[^A-Za-z0-9(),!?\\'\\`\\\"]\", \" \", text) # only keep these characters\n",
    "        text = re.sub(\"\\s+\", \" \", text) # compress white space\n",
    "        text = text.strip().lower() # lower case\n",
    "        \n",
    "        # tokenize \n",
    "        tokens = nlp(text)\n",
    "        \n",
    "        # remove punctuations if any were missed\n",
    "        tokens = [t for t in tokens if not t.is_punct]\n",
    "        \n",
    "        # remove stop words\n",
    "        tokens = [t for t in tokens if not t.is_stop]\n",
    "        \n",
    "        # lemmatize\n",
    "        tokens = [t.lemma_ for t in tokens]\n",
    "        \n",
    "        data.append(tokens)\n",
    "    \n",
    "    return data"
   ]
  },
  {
   "cell_type": "code",
   "execution_count": 115,
   "metadata": {},
   "outputs": [],
   "source": [
    "# model builder for part A\n",
    "def build_model(filter1, filter2, momentum, optimizer, dropout):    \n",
    "    # model\n",
    "    model = tf.keras.Sequential()\n",
    "    \n",
    "    model.add(layers.Input(shape=(100,256)))"
   ]
  }
 ],
 "metadata": {
  "kernelspec": {
   "display_name": "Python 3",
   "language": "python",
   "name": "python3"
  },
  "language_info": {
   "codemirror_mode": {
    "name": "ipython",
    "version": 3
   },
   "file_extension": ".py",
   "mimetype": "text/x-python",
   "name": "python",
   "nbconvert_exporter": "python",
   "pygments_lexer": "ipython3",
   "version": "3.6.8"
  }
 },
 "nbformat": 4,
 "nbformat_minor": 4
}